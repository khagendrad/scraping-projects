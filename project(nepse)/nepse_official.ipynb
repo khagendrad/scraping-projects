{
 "cells": [
  {
   "cell_type": "markdown",
   "metadata": {},
   "source": [
    "# Web Scraping Project (Nepal Stock Exchange)"
   ]
  },
  {
   "cell_type": "markdown",
   "metadata": {},
   "source": [
    "The todays trading data can be found in <a href='http://nepalstock.com/todaysprice'>NEPSE</a> official website."
   ]
  },
  {
   "cell_type": "code",
   "execution_count": 4,
   "metadata": {},
   "outputs": [],
   "source": [
    "#importing three requiered python modules \n",
    "from bs4 import BeautifulSoup\n",
    "import requests\n",
    "import pandas as pd\n",
    "import csv"
   ]
  },
  {
   "cell_type": "markdown",
   "metadata": {},
   "source": [
    "### Scraping the data using nepse link. "
   ]
  },
  {
   "cell_type": "code",
   "execution_count": 1,
   "metadata": {},
   "outputs": [],
   "source": [
    "\n",
    "def nepse_scrap():\n",
    "    all=[]\n",
    "    for i in range(1,12):\n",
    "        html_data =requests.get(f'http://nepalstock.com/main/todays_price/index/{i}/')\n",
    "        soup = BeautifulSoup(html_data.text,'lxml')\n",
    "        table = soup.find('table',class_='table table-condensed table-hover')\n",
    "        tags = table.find_all('tr')\n",
    "        data = []\n",
    "        for tag in tags:\n",
    "            x = tag.text\n",
    "            data.append(x)\n",
    "        updated_data = []\n",
    "        # condtion to remove two  empty in row data from the last\n",
    "        [updated_data.append(j.split('\\n')[1:-1]) if i==1 and data.index(j)==1 else updated_data.append(j.split('\\n')[1:-3]) for j in data]\n",
    "        # for j in data:\n",
    "        #     # print(i, data.index(j))\n",
    "        #     if i==1 and data.index(j)==1:\n",
    "        #         updated_data.append(j.split('\\n')[1:-1])\n",
    "        #     else:\n",
    "        #         updated_data.append(j.split('\\n')[1:-3])\n",
    "\n",
    "        # condition to add looped data withing adding heading\n",
    "        [all.append(updated_data[1:-4]) if i==1 else all.append(updated_data[2:-4])]\n",
    "        # if i==1:\n",
    "        #     all.append(updated_data[1:-4])\n",
    "        # else:\n",
    "        #     all.append(updated_data[2:-4])\n",
    "        return all"
   ]
  },
  {
   "cell_type": "markdown",
   "metadata": {},
   "source": [
    "### Adding data to new list from above list of data."
   ]
  },
  {
   "cell_type": "code",
   "execution_count": 5,
   "metadata": {},
   "outputs": [],
   "source": [
    "\n",
    "all = nepse_scrap()\n",
    "new_data = []\n",
    "for i in all:\n",
    "    for j in i:\n",
    "        new_data.append(j)"
   ]
  },
  {
   "cell_type": "markdown",
   "metadata": {},
   "source": [
    "# Saving data to csv file."
   ]
  },
  {
   "cell_type": "code",
   "execution_count": 392,
   "metadata": {},
   "outputs": [],
   "source": [
    "with open('new_nepse_data.csv','w')as f:\n",
    "    x = csv.writer(f)\n",
    "    for i in new_data:\n",
    "        x.writerow(i)\n",
    "f.close()"
   ]
  },
  {
   "cell_type": "code",
   "execution_count": 393,
   "metadata": {},
   "outputs": [],
   "source": [
    "# reading data from csv file.\n",
    "df=pd.read_csv('new_nepse_data.csv', index_col='S.N.')"
   ]
  },
  {
   "cell_type": "code",
   "execution_count": 394,
   "metadata": {},
   "outputs": [
    {
     "data": {
      "text/plain": [
       "(212, 9)"
      ]
     },
     "execution_count": 394,
     "metadata": {},
     "output_type": "execute_result"
    }
   ],
   "source": [
    "df.shape"
   ]
  }
 ],
 "metadata": {
  "kernelspec": {
   "display_name": "Python 3.10.5 64-bit",
   "language": "python",
   "name": "python3"
  },
  "language_info": {
   "codemirror_mode": {
    "name": "ipython",
    "version": 3
   },
   "file_extension": ".py",
   "mimetype": "text/x-python",
   "name": "python",
   "nbconvert_exporter": "python",
   "pygments_lexer": "ipython3",
   "version": "3.10.5"
  },
  "orig_nbformat": 4,
  "vscode": {
   "interpreter": {
    "hash": "916dbcbb3f70747c44a77c7bcd40155683ae19c65e1c03b4aa3499c5328201f1"
   }
  }
 },
 "nbformat": 4,
 "nbformat_minor": 2
}
