{
 "cells": [
  {
   "cell_type": "markdown",
   "metadata": {},
   "source": [
    "# Github Topic Scraping "
   ]
  },
  {
   "cell_type": "markdown",
   "metadata": {},
   "source": [
    "Scraping all featured topics from  <a href='https://github.com/topics/'> Github topics</a>."
   ]
  },
  {
   "cell_type": "code",
   "execution_count": 122,
   "metadata": {},
   "outputs": [],
   "source": [
    "# importing all necessary libraries\n",
    "from bs4 import BeautifulSoup\n",
    "import requests\n",
    "import pandas as pd\n"
   ]
  },
  {
   "cell_type": "code",
   "execution_count": 123,
   "metadata": {},
   "outputs": [],
   "source": [
    "#base url for featured topic url\n",
    "base_url = 'https://github.com/'"
   ]
  },
  {
   "cell_type": "code",
   "execution_count": 116,
   "metadata": {},
   "outputs": [],
   "source": [
    "def get_topic_page(topic_url):\n",
    "    # Downlaod individual topic page.\n",
    "    response = requests.get(topic_url)\n",
    "\n",
    "    # check sccessful resposne \n",
    "    if response.status_code != 200:\n",
    "        raise Exception(f\" Failed to load page{topic_url}\")\n",
    "    # parse the page\n",
    "    topic_doc =  BeautifulSoup(response.text, 'html.parser')\n",
    "    return topic_doc\n",
    "\n",
    "    # extracting username, repository name, stars and repository url\n",
    "def get_repo_info(h3_tags, star_tag):\n",
    "    a_tags = h3_tags.find_all('a')\n",
    "    username = a_tags[0].text.strip()\n",
    "    repo_name = a_tags[1].text.strip()\n",
    "    repo_url = base_url+a_tags[1]['href']\n",
    "    stars = parse_star_count(star_tag.text)\n",
    "    return username, repo_name,stars, repo_url\n",
    "# parsing star counts\n",
    "def parse_star_count(star_str):\n",
    "    star_str = star_str.strip()\n",
    "    if star_str==None:\n",
    "        return 0\n",
    "    elif star_str[-1]=='k':\n",
    "        # star_str = star_str[:-1] gives last item from string\n",
    "        return int(float(star_str[:-1])*1000)\n",
    "    else:\n",
    "        return int(star_str)\n",
    "\n",
    "\n",
    "\n",
    "def get_topic_repos(topic_doc):\n",
    "    # get h3 tags containg repo title , url and repo name\n",
    "    h3_tags = topic_doc.find_all('h3', {'class':'f3 color-fg-muted text-normal lh-condensed'})\n",
    "    # getting repo stars\n",
    "    repo_star = topic_doc.find_all('span', {'class':'Counter js-social-count'})\n",
    "    # empty dictionary \n",
    "    topic_repos_dict = {\n",
    "    'username':[],\n",
    "    'repo_name':[],\n",
    "    'stars':[],\n",
    "    'repo_url':[]\n",
    "    }\n",
    "    # looping through get_repo_info() function to get username,repo_name, star and repo_url\n",
    "    for i in range(len(h3_tags)):\n",
    "        repo_info = get_repo_info(h3_tags[i],repo_star[i])\n",
    "        topic_repos_dict['username'].append(repo_info[0])\n",
    "        topic_repos_dict['repo_name'].append(repo_info[1])\n",
    "        topic_repos_dict['stars'].append(repo_info[2])\n",
    "        topic_repos_dict['repo_url'].append(repo_info[3])\n",
    "        # return data as pandas dataframe.\n",
    "    return  pd.DataFrame(topic_repos_dict)\n",
    "        "
   ]
  },
  {
   "cell_type": "markdown",
   "metadata": {},
   "source": [
    "Above function only gives four fields of github.\n",
    "1. Username \n",
    "2. repository name \n",
    "3. repostory stars \n",
    "4. repository urls"
   ]
  },
  {
   "cell_type": "code",
   "execution_count": null,
   "metadata": {},
   "outputs": [],
   "source": [
    "# returning dataframe containing username, reponame, repourl and stars\n",
    "get_topic_repos(get_topic_page('https://github.com//topics/3d'))"
   ]
  },
  {
   "cell_type": "markdown",
   "metadata": {},
   "source": [
    "So, scrape more along with above fields: \n",
    "1. Topic name\n",
    "2. Topic url name \n",
    "The following function are used."
   ]
  },
  {
   "cell_type": "code",
   "execution_count": 33,
   "metadata": {},
   "outputs": [],
   "source": [
    "# geting topic_url from parseed page content. soup= parse page content, i= position of link tag.\n",
    "def topic_urls(soup,i):\n",
    "    base_url = 'https://github.com/'\n",
    "    topic_link_tags = soup.find_all('a',{'class':'no-underline flex-1 d-flex flex-column'})\n",
    "    topic_url= base_url+topic_link_tags[i]['href']\n",
    "    return topic_url"
   ]
  },
  {
   "cell_type": "code",
   "execution_count": 41,
   "metadata": {},
   "outputs": [],
   "source": [
    "\n",
    "#getting topic_name eg. 3D, Ajax, asp.net\n",
    "def get_topic_name(soup,i):\n",
    "    selection_class = 'f3 lh-condensed mb-0 mt-1 Link--primary'\n",
    "    topic_title_tags = soup.find_all('p', {'class':selection_class })\n",
    "    return topic_title_tags[i].text\n"
   ]
  },
  {
   "cell_type": "code",
   "execution_count": 10,
   "metadata": {},
   "outputs": [],
   "source": [
    "# getting topic page whcih contains all the topics\n",
    "response = requests.get('https://github.com/topics')\n",
    "# parsing the page\n",
    "soup = BeautifulSoup(response.text, 'html.parser')\n"
   ]
  },
  {
   "cell_type": "code",
   "execution_count": 130,
   "metadata": {},
   "outputs": [
    {
     "data": {
      "text/plain": [
       "'Ajax'"
      ]
     },
     "execution_count": 130,
     "metadata": {},
     "output_type": "execute_result"
    }
   ],
   "source": [
    "# returning topic name\n",
    "j = 1 # postion of topic\n",
    "get_topic_name(soup, j)\n"
   ]
  },
  {
   "cell_type": "code",
   "execution_count": 131,
   "metadata": {},
   "outputs": [
    {
     "data": {
      "text/plain": [
       "'https://github.com//topics/ajax'"
      ]
     },
     "execution_count": 131,
     "metadata": {},
     "output_type": "execute_result"
    }
   ],
   "source": [
    "# returning topic url \n",
    "\n",
    "topic_urls(soup,j)"
   ]
  },
  {
   "cell_type": "code",
   "execution_count": 62,
   "metadata": {},
   "outputs": [],
   "source": [
    "# this block of code returns all the data \n",
    "# 1. featured topic\n",
    "# 2. topic url\n",
    "# 3. username of repo \n",
    "# 4. stars that got to respective repo \n",
    "# 5. repo url\n",
    "def all_data(topic_doc, soup,j):\n",
    "    all_data = {\n",
    "        'topic':[],\n",
    "        'topic_url':[],\n",
    "        'username':[],\n",
    "        'repo_name':[],\n",
    "        'stars':[],\n",
    "        'repo_url':[]\n",
    "    }\n",
    "    # get h3 tags containg repo title , url and repo name\n",
    "    h3_tags = topic_doc.find_all('h3', {'class':'f3 color-fg-muted text-normal lh-condensed'})\n",
    "    # getting repo stars\n",
    "    repo_star = topic_doc.find_all('span', {'class':'Counter js-social-count'})\n",
    "\n",
    "    for i in range(len(h3_tags)):\n",
    "        repo_info = get_repo_info(h3_tags[i],repo_star[i])\n",
    "        all_data['topic'].append(get_topic_name(soup,j))\n",
    "        all_data['topic_url'].append(topic_urls(soup,j))\n",
    "        all_data['username'].append(repo_info[0])\n",
    "        all_data['repo_name'].append(repo_info[1])\n",
    "        all_data['stars'].append(repo_info[2])\n",
    "        all_data['repo_url'].append(repo_info[3])\n",
    "    return all_data\n"
   ]
  },
  {
   "cell_type": "code",
   "execution_count": 117,
   "metadata": {},
   "outputs": [],
   "source": [
    "github_data =[]\n",
    "# looping through all_data() function and converting to dataframe and appending returned data to empty list \n",
    "for j in range(10):\n",
    "    github_data.append(pd.DataFrame(all_data(get_topic_page(topic_urls(soup,j)), soup,j)))"
   ]
  },
  {
   "cell_type": "code",
   "execution_count": 118,
   "metadata": {},
   "outputs": [],
   "source": [
    "# combining multiple dataframe with ignoring index.\n",
    "\n",
    "result = pd.concat(github_data, ignore_index=True)"
   ]
  },
  {
   "cell_type": "code",
   "execution_count": 119,
   "metadata": {},
   "outputs": [],
   "source": [
    "# converting data into csv.\n",
    "result.to_csv('topic_repo_user_star.csv')"
   ]
  },
  {
   "cell_type": "code",
   "execution_count": 126,
   "metadata": {},
   "outputs": [
    {
     "data": {
      "text/html": [
       "<div>\n",
       "<style scoped>\n",
       "    .dataframe tbody tr th:only-of-type {\n",
       "        vertical-align: middle;\n",
       "    }\n",
       "\n",
       "    .dataframe tbody tr th {\n",
       "        vertical-align: top;\n",
       "    }\n",
       "\n",
       "    .dataframe thead th {\n",
       "        text-align: right;\n",
       "    }\n",
       "</style>\n",
       "<table border=\"1\" class=\"dataframe\">\n",
       "  <thead>\n",
       "    <tr style=\"text-align: right;\">\n",
       "      <th></th>\n",
       "      <th>topic</th>\n",
       "      <th>topic_url</th>\n",
       "      <th>username</th>\n",
       "      <th>repo_name</th>\n",
       "      <th>stars</th>\n",
       "      <th>repo_url</th>\n",
       "    </tr>\n",
       "  </thead>\n",
       "  <tbody>\n",
       "    <tr>\n",
       "      <th>0</th>\n",
       "      <td>3D</td>\n",
       "      <td>https://github.com//topics/3d</td>\n",
       "      <td>mrdoob</td>\n",
       "      <td>three.js</td>\n",
       "      <td>83800</td>\n",
       "      <td>https://github.com//mrdoob/three.js</td>\n",
       "    </tr>\n",
       "    <tr>\n",
       "      <th>1</th>\n",
       "      <td>3D</td>\n",
       "      <td>https://github.com//topics/3d</td>\n",
       "      <td>libgdx</td>\n",
       "      <td>libgdx</td>\n",
       "      <td>20200</td>\n",
       "      <td>https://github.com//libgdx/libgdx</td>\n",
       "    </tr>\n",
       "    <tr>\n",
       "      <th>2</th>\n",
       "      <td>3D</td>\n",
       "      <td>https://github.com//topics/3d</td>\n",
       "      <td>pmndrs</td>\n",
       "      <td>react-three-fiber</td>\n",
       "      <td>18800</td>\n",
       "      <td>https://github.com//pmndrs/react-three-fiber</td>\n",
       "    </tr>\n",
       "    <tr>\n",
       "      <th>3</th>\n",
       "      <td>3D</td>\n",
       "      <td>https://github.com//topics/3d</td>\n",
       "      <td>BabylonJS</td>\n",
       "      <td>Babylon.js</td>\n",
       "      <td>17900</td>\n",
       "      <td>https://github.com//BabylonJS/Babylon.js</td>\n",
       "    </tr>\n",
       "    <tr>\n",
       "      <th>4</th>\n",
       "      <td>3D</td>\n",
       "      <td>https://github.com//topics/3d</td>\n",
       "      <td>aframevr</td>\n",
       "      <td>aframe</td>\n",
       "      <td>14400</td>\n",
       "      <td>https://github.com//aframevr/aframe</td>\n",
       "    </tr>\n",
       "  </tbody>\n",
       "</table>\n",
       "</div>"
      ],
      "text/plain": [
       "  topic                      topic_url   username          repo_name  stars  \\\n",
       "0    3D  https://github.com//topics/3d     mrdoob           three.js  83800   \n",
       "1    3D  https://github.com//topics/3d     libgdx             libgdx  20200   \n",
       "2    3D  https://github.com//topics/3d     pmndrs  react-three-fiber  18800   \n",
       "3    3D  https://github.com//topics/3d  BabylonJS         Babylon.js  17900   \n",
       "4    3D  https://github.com//topics/3d   aframevr             aframe  14400   \n",
       "\n",
       "                                       repo_url  \n",
       "0           https://github.com//mrdoob/three.js  \n",
       "1             https://github.com//libgdx/libgdx  \n",
       "2  https://github.com//pmndrs/react-three-fiber  \n",
       "3      https://github.com//BabylonJS/Babylon.js  \n",
       "4           https://github.com//aframevr/aframe  "
      ]
     },
     "execution_count": 126,
     "metadata": {},
     "output_type": "execute_result"
    }
   ],
   "source": [
    "result.head()"
   ]
  },
  {
   "cell_type": "code",
   "execution_count": null,
   "metadata": {},
   "outputs": [],
   "source": []
  }
 ],
 "metadata": {
  "kernelspec": {
   "display_name": "Python 3.10.5 64-bit",
   "language": "python",
   "name": "python3"
  },
  "language_info": {
   "codemirror_mode": {
    "name": "ipython",
    "version": 3
   },
   "file_extension": ".py",
   "mimetype": "text/x-python",
   "name": "python",
   "nbconvert_exporter": "python",
   "pygments_lexer": "ipython3",
   "version": "3.10.5"
  },
  "orig_nbformat": 4,
  "vscode": {
   "interpreter": {
    "hash": "916dbcbb3f70747c44a77c7bcd40155683ae19c65e1c03b4aa3499c5328201f1"
   }
  }
 },
 "nbformat": 4,
 "nbformat_minor": 2
}
